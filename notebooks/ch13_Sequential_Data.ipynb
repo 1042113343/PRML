{
 "cells": [
  {
   "cell_type": "code",
   "execution_count": 1,
   "metadata": {
    "collapsed": true
   },
   "outputs": [],
   "source": [
    "import matplotlib.pyplot as plt\n",
    "import numpy as np\n",
    "%matplotlib inline\n",
    "\n",
    "from prml.distributions import GaussianMixtureDistribution\n",
    "from prml.markov_models import HiddenMarkovModel"
   ]
  },
  {
   "cell_type": "code",
   "execution_count": 2,
   "metadata": {
    "collapsed": true
   },
   "outputs": [],
   "source": [
    "def create_dataset():\n",
    "    emission_proba_equal = np.ones(6) / 6\n",
    "    emission_proba_fixed = np.array([0.1, 0.1, 0.1, 0.1, 0.1, 0.5])\n",
    "    dice = np.arange(6)\n",
    "    seq = np.random.choice(6, size=50, p=emission_proba_equal)\n",
    "    seq = np.concatenate((seq, np.random.choice(6, size=50, p=emission_proba_fixed)))\n",
    "    return seq"
   ]
  },
  {
   "cell_type": "code",
   "execution_count": 3,
   "metadata": {
    "collapsed": true
   },
   "outputs": [],
   "source": [
    "dice_seq = create_dataset()"
   ]
  },
  {
   "cell_type": "code",
   "execution_count": 4,
   "metadata": {
    "collapsed": false
   },
   "outputs": [
    {
     "data": {
      "text/plain": [
       "array([5, 0, 5, 4, 1, 1, 4, 5, 5, 4, 0, 3, 2, 1, 5, 1, 5, 4, 1, 2, 5, 1, 3,\n",
       "       3, 5, 4, 1, 4, 0, 4, 2, 3, 3, 4, 0, 3, 0, 2, 4, 1, 0, 0, 3, 5, 0, 2,\n",
       "       2, 2, 2, 5, 0, 5, 5, 2, 1, 5, 4, 5, 5, 3, 5, 5, 0, 1, 4, 5, 5, 5, 2,\n",
       "       5, 5, 3, 3, 2, 0, 5, 3, 1, 1, 5, 1, 0, 5, 5, 3, 3, 5, 2, 5, 3, 5, 0,\n",
       "       4, 1, 3, 5, 5, 5, 5, 2])"
      ]
     },
     "execution_count": 4,
     "metadata": {},
     "output_type": "execute_result"
    }
   ],
   "source": [
    "dice_seq"
   ]
  },
  {
   "cell_type": "code",
   "execution_count": 5,
   "metadata": {
    "collapsed": true
   },
   "outputs": [],
   "source": [
    "hmm = HiddenMarkovModel(n_states=2)"
   ]
  },
  {
   "cell_type": "code",
   "execution_count": null,
   "metadata": {
    "collapsed": true
   },
   "outputs": [],
   "source": [
    "gmm = GaussianMixtureDistribution(n_components=2)\n",
    "gmm.means = np.array([[], []])\n",
    "\n",
    "hmm.set_initial_proba(np.array([1., 0.]))\n",
    "hmm.set_transition_proba(np.array([[0.99, 0.01], [0.01, 0.99]]))\n",
    "hmm.set_emission_dist(GaussianMixtureDistribution("
   ]
  }
 ],
 "metadata": {
  "anaconda-cloud": {},
  "kernelspec": {
   "display_name": "Python [Root]",
   "language": "python",
   "name": "Python [Root]"
  },
  "language_info": {
   "codemirror_mode": {
    "name": "ipython",
    "version": 3
   },
   "file_extension": ".py",
   "mimetype": "text/x-python",
   "name": "python",
   "nbconvert_exporter": "python",
   "pygments_lexer": "ipython3",
   "version": "3.5.2"
  }
 },
 "nbformat": 4,
 "nbformat_minor": 0
}
